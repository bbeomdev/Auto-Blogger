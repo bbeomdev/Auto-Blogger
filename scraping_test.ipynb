{
 "cells": [
  {
   "cell_type": "code",
   "execution_count": 1,
   "id": "f7d1f0d9",
   "metadata": {},
   "outputs": [],
   "source": [
    "from scraping_function import *"
   ]
  },
  {
   "cell_type": "code",
   "execution_count": 2,
   "id": "fec9da91",
   "metadata": {},
   "outputs": [],
   "source": [
    "text_list = scraping_blog('경남대 맛집', 1)"
   ]
  },
  {
   "cell_type": "code",
   "execution_count": 5,
   "id": "5f44926f",
   "metadata": {},
   "outputs": [
    {
     "name": "stdout",
     "output_type": "stream",
     "text": [
      "마산 경남대 가성비 맛집 비바스파게티 불고기피자 치즈오븐스파게티\n",
      "2025. 5. 24. 10:26\n",
      "경상남도 창원시 마산합포구 월영북2길 12 주택\n",
      "경남대 맛집 비바스파게티입니다\n",
      "\n",
      "경남대학교 정문옆 골목(?)에 있고\n",
      "찾기 어렵지 않아요\n",
      "\n",
      "입구옆에 메뉴판이 있어서\n",
      "보고 들어갈 수 있어요\n",
      "메뉴판 대충 스캔하고\n",
      "들어가 봅니다\n",
      "\n",
      "실내입니다\n",
      "\n",
      "이제 메뉴판을 한번 정독해 봐야죠 ㅎㅎ\n",
      "\n",
      "샐러드와 피자\n",
      "\n",
      "스파게티\n",
      "\n",
      "볶음밥과 리조또까지\n",
      "종류가 상당하네요 ㅎ\n",
      "가격대들이 상당히 저렴해보입니다\n",
      "\n",
      "그 중에 우린 불고기피자와\n",
      "미트소스 오븐스파게티로 주문합니다\n",
      "근본메뉴죠 ㅎㅎㅎ\n",
      "\n",
      "주문하고 셀프코너로 가서\n",
      "한번 스캔해주고...ㅎ\n",
      "\n",
      "집기류 앞접시등이 있어요\n",
      "\n",
      "글고 아이스크림 ㅎㅎ\n",
      "\n",
      "탄산음료도 셀프로 먹을 수 있어요\n",
      "\n",
      "오픈식 주방(?) ㅎㅎ\n",
      "\n",
      "주문한 음식들이 이제 나옵니다\n",
      "이런 감성의 식당에는 역시\n",
      "근본메뉴인 오븐스파게티는\n",
      "꼭 먹어줘야죠 ㅎㅎ\n",
      "\n",
      "그리고 뭔가 이상한 도구를 주시는데...\n",
      "보시는 바와 같이 피자를\n",
      "따뜻하게 먹을 수있는 장치(?) 입니다 ㅎ\n",
      "\n",
      "피자도 나왔습니다 ㅎ\n",
      "\n",
      "맛있어 보이쥬?? ㅎㅎ\n",
      "\n",
      "먹다가 탄산한잔 가져와주고 ㅎ\n",
      "아 옆에 제빙기가 있어서\n",
      "얼음이랑 같이 먹을 수 있어요\n",
      "제로콜라도 있고 ㅎ\n",
      "\n",
      "글고 마지막으로 디저트\n",
      "아이스크림 먹고 끝 ㅎㅎ\n",
      "\n",
      "피자는 남아서 포장해 옵니다 ㅎ\n",
      "\n",
      "맛도 맛이지만 무엇보다\n",
      "착한 가격대와 탄산과 아이스크림을\n",
      "마음껏 먹을 수 있다는게\n",
      "큰 장점인거 같은 곳입니다\n",
      "맛있게 잘 먹었습니다~~!\n"
     ]
    }
   ],
   "source": [
    "print(text_list[0])"
   ]
  }
 ],
 "metadata": {
  "kernelspec": {
   "display_name": "Python 3",
   "language": "python",
   "name": "python3"
  },
  "language_info": {
   "codemirror_mode": {
    "name": "ipython",
    "version": 3
   },
   "file_extension": ".py",
   "mimetype": "text/x-python",
   "name": "python",
   "nbconvert_exporter": "python",
   "pygments_lexer": "ipython3",
   "version": "3.11.7"
  }
 },
 "nbformat": 4,
 "nbformat_minor": 5
}
